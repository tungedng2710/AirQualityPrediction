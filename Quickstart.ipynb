{
 "cells": [
  {
   "cell_type": "code",
   "execution_count": 3,
   "metadata": {},
   "outputs": [
    {
     "name": "stdout",
     "output_type": "stream",
     "text": [
      "Loading raw csv files...\n"
     ]
    }
   ],
   "source": [
    "from tqdm import tqdm\n",
    "from utils.dataset import AI4VN_AirDataLoader\n",
    "from utils.evaluation import eval_regression_model\n",
    "\n",
    "air_data_loader = AI4VN_AirDataLoader(test_size=0.15)"
   ]
  },
  {
   "cell_type": "markdown",
   "metadata": {},
   "source": [
    "## Scikit-learn ensemble models"
   ]
  },
  {
   "cell_type": "code",
   "execution_count": null,
   "metadata": {},
   "outputs": [],
   "source": [
    "from utils.models import EnsembleModel"
   ]
  },
  {
   "cell_type": "markdown",
   "metadata": {},
   "source": [
    "### Train models"
   ]
  },
  {
   "cell_type": "code",
   "execution_count": 3,
   "metadata": {},
   "outputs": [],
   "source": [
    "X_train, X_test, y_train, y_test = air_data_loader.get_data_loader_sklearn()"
   ]
  },
  {
   "cell_type": "code",
   "execution_count": 4,
   "metadata": {},
   "outputs": [
    {
     "name": "stdout",
     "output_type": "stream",
     "text": [
      "Creating Gradient Boosting Regressor\n",
      "Creating Random Forest Regressor\n",
      "Training model...\n",
      "Trained model has been saved at trained_models/EnsembleModel.pkl\n",
      "Training model...\n",
      "Trained model has been saved at trained_models/EnsembleModel.pkl\n"
     ]
    }
   ],
   "source": [
    "model_gb = EnsembleModel(name=\"gradientboosting\")\n",
    "model_rf = EnsembleModel(name=\"randomforest\")\n",
    "\n",
    "trained_model_gb = model_gb.fit(X_train, y_train)\n",
    "trained_model_rf = model_rf.fit(X_train, y_train)"
   ]
  },
  {
   "cell_type": "markdown",
   "metadata": {},
   "source": [
    "### Evaluate the trained models"
   ]
  },
  {
   "cell_type": "code",
   "execution_count": 5,
   "metadata": {},
   "outputs": [
    {
     "name": "stdout",
     "output_type": "stream",
     "text": [
      "explained_variance:  0.3674\n",
      "mean_squared_log_error:  0.4021\n",
      "R^2:  0.36743302762436236\n",
      "MAE:  20.917917685450405\n",
      "MSE:  1070.0027049837165\n",
      "RMSE:  32.71089581444868\n",
      "MAPE:  67.01531528734091 %\n"
     ]
    }
   ],
   "source": [
    "eval_regression_model(trained_model_gb, X_test, y_test)"
   ]
  },
  {
   "cell_type": "code",
   "execution_count": 6,
   "metadata": {},
   "outputs": [
    {
     "name": "stdout",
     "output_type": "stream",
     "text": [
      "explained_variance:  0.2835\n",
      "mean_squared_log_error:  0.4389\n",
      "R^2:  0.28352027390667056\n",
      "MAE:  22.225689794453338\n",
      "MSE:  1211.9432067512423\n",
      "RMSE:  34.81297468977971\n",
      "MAPE:  71.93823773342694 %\n"
     ]
    }
   ],
   "source": [
    "eval_regression_model(trained_model_rf, X_test, y_test)"
   ]
  },
  {
   "cell_type": "markdown",
   "metadata": {},
   "source": [
    "## Pytorch Neural Network"
   ]
  },
  {
   "cell_type": "code",
   "execution_count": 4,
   "metadata": {},
   "outputs": [],
   "source": [
    "import torch\n",
    "import torch.nn as nn\n",
    "\n",
    "from utils.models import NeuralNetwork"
   ]
  },
  {
   "cell_type": "code",
   "execution_count": 5,
   "metadata": {},
   "outputs": [],
   "source": [
    "train_loader, val_loader = air_data_loader.get_data_loader_pytorch(batch_size=64)"
   ]
  },
  {
   "cell_type": "code",
   "execution_count": 6,
   "metadata": {},
   "outputs": [],
   "source": [
    "net = NeuralNetwork(num_input_feat=2)\n",
    "loss_function = nn.L1Loss() # MAE Loss\n",
    "optimizer = torch.optim.Adam(net.parameters(), lr=1e-4)\n",
    "num_epochs = 10"
   ]
  },
  {
   "cell_type": "code",
   "execution_count": 9,
   "metadata": {},
   "outputs": [
    {
     "name": "stderr",
     "output_type": "stream",
     "text": [
      "100%|██████████| 10/10 [00:19<00:00,  1.98s/it]\n"
     ]
    }
   ],
   "source": [
    "for epoch in tqdm(range(num_epochs)):\n",
    "    current_loss = 0.0\n",
    "    for i, (inputs, targets) in enumerate(train_loader):\n",
    "        inputs, targets = inputs.float(), targets.float()\n",
    "        targets = targets.reshape((targets.shape[0], 1))\n",
    "\n",
    "        optimizer.zero_grad()\n",
    "        outputs = net(inputs)\n",
    "        loss = loss_function(outputs, targets)\n",
    "        loss.backward()\n",
    "\n",
    "        optimizer.step()\n",
    "\n",
    "        current_loss += loss.item()"
   ]
  }
 ],
 "metadata": {
  "kernelspec": {
   "display_name": "Python 3.8.10 64-bit",
   "language": "python",
   "name": "python3"
  },
  "language_info": {
   "codemirror_mode": {
    "name": "ipython",
    "version": 3
   },
   "file_extension": ".py",
   "mimetype": "text/x-python",
   "name": "python",
   "nbconvert_exporter": "python",
   "pygments_lexer": "ipython3",
   "version": "3.8.10"
  },
  "orig_nbformat": 4,
  "vscode": {
   "interpreter": {
    "hash": "31f2aee4e71d21fbe5cf8b01ff0e069b9275f58929596ceb00d14d90e3e16cd6"
   }
  }
 },
 "nbformat": 4,
 "nbformat_minor": 2
}
