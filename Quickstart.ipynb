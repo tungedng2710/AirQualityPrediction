{
 "cells": [
  {
   "cell_type": "code",
   "execution_count": 1,
   "metadata": {},
   "outputs": [
    {
     "name": "stderr",
     "output_type": "stream",
     "text": [
      "/home/thutt36/.local/lib/python3.8/site-packages/tqdm/auto.py:22: TqdmWarning: IProgress not found. Please update jupyter and ipywidgets. See https://ipywidgets.readthedocs.io/en/stable/user_install.html\n",
      "  from .autonotebook import tqdm as notebook_tqdm\n"
     ]
    }
   ],
   "source": [
    "from tqdm import tqdm\n",
    "from utils.dataset import AI4VN_AirDataLoader\n",
    "from utils.evaluation import eval_regression_model\n",
    "\n",
    "air_data_loader = AI4VN_AirDataLoader()"
   ]
  },
  {
   "cell_type": "markdown",
   "metadata": {},
   "source": [
    "## Scikit-learn ensemble models"
   ]
  },
  {
   "cell_type": "code",
   "execution_count": 2,
   "metadata": {},
   "outputs": [],
   "source": [
    "from utils.models import EnsembleModel"
   ]
  },
  {
   "cell_type": "markdown",
   "metadata": {},
   "source": [
    "### Train models"
   ]
  },
  {
   "cell_type": "code",
   "execution_count": 3,
   "metadata": {},
   "outputs": [],
   "source": [
    "X_train, X_test, y_train, y_test = air_data_loader.get_data_loader_sklearn()"
   ]
  },
  {
   "cell_type": "code",
   "execution_count": 4,
   "metadata": {},
   "outputs": [
    {
     "name": "stdout",
     "output_type": "stream",
     "text": [
      "Creating Gradient Boosting Regressor\n",
      "Creating Random Forest Regressor\n",
      "Training model...\n",
      "Training model...\n"
     ]
    }
   ],
   "source": [
    "model_gb = EnsembleModel(name=\"gradientboosting\")\n",
    "model_rf = EnsembleModel(name=\"randomforest\")\n",
    "\n",
    "trained_model_gb = model_gb.fit(X_train, y_train, save_checkpoint=False)\n",
    "trained_model_rf = model_rf.fit(X_train, y_train, save_checkpoint=False)"
   ]
  },
  {
   "cell_type": "markdown",
   "metadata": {},
   "source": [
    "### Evaluate the trained models"
   ]
  },
  {
   "cell_type": "code",
   "execution_count": 5,
   "metadata": {},
   "outputs": [
    {
     "name": "stdout",
     "output_type": "stream",
     "text": [
      "explained_variance:  0.3407\n",
      "mean_squared_log_error:  0.6049\n",
      "R^2:  0.3405466139147817\n",
      "MAE:  24.257017674855636\n",
      "MSE:  1279.8845525974832\n",
      "RMSE:  35.77547417711585\n",
      "MAPE:  1.1486073433082733\n"
     ]
    }
   ],
   "source": [
    "# Gradient Boosting Regression model\n",
    "y_true = y_test\n",
    "y_pred = trained_model_gb.predict(X_test)\n",
    "eval_regression_model(y_true, y_pred)"
   ]
  },
  {
   "cell_type": "code",
   "execution_count": 6,
   "metadata": {},
   "outputs": [
    {
     "name": "stdout",
     "output_type": "stream",
     "text": [
      "explained_variance:  0.2974\n",
      "mean_squared_log_error:  0.6479\n",
      "R^2:  0.297125354580699\n",
      "MAE:  25.20959344516901\n",
      "MSE:  1364.1576797792734\n",
      "RMSE:  36.93450527324379\n",
      "MAPE:  1.2208700386067248\n"
     ]
    }
   ],
   "source": [
    "# Random Forest Regression model\n",
    "y_true = y_test\n",
    "y_pred = trained_model_rf.predict(X_test)\n",
    "eval_regression_model(y_true, y_pred)"
   ]
  },
  {
   "cell_type": "markdown",
   "metadata": {},
   "source": [
    "## Pytorch Neural Network"
   ]
  },
  {
   "cell_type": "code",
   "execution_count": 2,
   "metadata": {},
   "outputs": [],
   "source": [
    "import torch\n",
    "import torch.nn as nn\n",
    "\n",
    "from utils.models import NeuralNetwork"
   ]
  },
  {
   "cell_type": "code",
   "execution_count": 3,
   "metadata": {},
   "outputs": [],
   "source": [
    "train_loader, test_loader = air_data_loader.get_data_loader_pytorch(batch_size_train=1024, \n",
    "                                                                    batch_size_test=len(air_data_loader.test_set))"
   ]
  },
  {
   "cell_type": "code",
   "execution_count": 4,
   "metadata": {},
   "outputs": [],
   "source": [
    "net = NeuralNetwork(num_input_feat=2)\n",
    "loss_function = nn.L1Loss() # MAE Loss\n",
    "optimizer = torch.optim.Adam(net.parameters(), lr=0.1)\n",
    "num_epochs = 100"
   ]
  },
  {
   "cell_type": "code",
   "execution_count": null,
   "metadata": {},
   "outputs": [],
   "source": [
    "for epoch in range(num_epochs):\n",
    "    current_loss = 0.0\n",
    "    print(\"Train epoch: {epoch}/{num_epochs}\".format(epoch=epoch, num_epochs=num_epochs))\n",
    "    for i, (inputs, targets) in enumerate(train_loader):\n",
    "        inputs, targets = inputs.float(), targets.float()\n",
    "        targets = targets.reshape((targets.shape[0], 1))\n",
    "\n",
    "        optimizer.zero_grad()\n",
    "        outputs = net(inputs)\n",
    "        loss = loss_function(outputs, targets)\n",
    "        loss.backward()\n",
    "\n",
    "        optimizer.step()\n",
    "\n",
    "        current_loss += loss.item()\n",
    "        if i % 10 == 0:\n",
    "            current_loss = 0.0\n",
    "    print(\"Test epoch \", epoch)\n",
    "    for _, (inputs, targets) in enumerate(test_loader):\n",
    "        y_true = targets.float().detach().numpy()\n",
    "        y_pred = net(inputs.float()).detach().numpy()\n",
    "        r2, mae, mse, rmse, mape = eval_regression_model(y_true=y_true, y_pred=y_pred, verbose=0)\n",
    "    print(\"-------------------------------\")\n",
    "\n",
    "# torch.save(net.state_dict(), \"trained_models/mlp.pth\")"
   ]
  }
 ],
 "metadata": {
  "kernelspec": {
   "display_name": "Python 3.8.10 64-bit",
   "language": "python",
   "name": "python3"
  },
  "language_info": {
   "codemirror_mode": {
    "name": "ipython",
    "version": 3
   },
   "file_extension": ".py",
   "mimetype": "text/x-python",
   "name": "python",
   "nbconvert_exporter": "python",
   "pygments_lexer": "ipython3",
   "version": "3.8.10"
  },
  "orig_nbformat": 4,
  "vscode": {
   "interpreter": {
    "hash": "31f2aee4e71d21fbe5cf8b01ff0e069b9275f58929596ceb00d14d90e3e16cd6"
   }
  }
 },
 "nbformat": 4,
 "nbformat_minor": 2
}
