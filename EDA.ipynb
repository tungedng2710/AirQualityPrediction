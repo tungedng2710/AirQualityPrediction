{
  "cells": [
    {
      "cell_type": "markdown",
      "metadata": {
        "id": "FNFd3yJkFdsZ"
      },
      "source": [
        "# AI4VN Air Quality Chalenge"
      ]
    },
    {
      "cell_type": "markdown",
      "metadata": {
        "id": "q3OdNdWuRbur"
      },
      "source": [
        "##1. Extract, Transform and Load"
      ]
    },
    {
      "cell_type": "code",
      "execution_count": 2,
      "metadata": {
        "colab": {
          "base_uri": "https://localhost:8080/"
        },
        "id": "_Grt51a9EKrE",
        "outputId": "bc149202-d4d2-4253-dcd7-9c06c049ad85"
      },
      "outputs": [],
      "source": [
        "import numpy as np\n",
        "import pandas as pd"
      ]
    },
    {
      "cell_type": "code",
      "execution_count": 3,
      "metadata": {
        "id": "AMDeqcolFXDS"
      },
      "outputs": [],
      "source": [
        "input_ngockhanh = pd.read_csv(\"data-train/input/S0000137-Ngoc Khanh.csv\")\n",
        "input_dhqg = pd.read_csv(\"data-train/input/S0000143-Thu vien - DHQG Ha Noi.csv\")\n",
        "input_thtranquoctoan = pd.read_csv(\"data-train/input/S0000153-Truong Tieu hoc Tran Quoc Toan.csv\")\n",
        "input_genesis = pd.read_csv(\"data-train/input/S0000171-GENESIS School.csv\")\n",
        "input_thcsyenso = pd.read_csv(\"data-train/input/S0000210-Truong THCS Yen So.csv\")\n",
        "input_quanhoa = pd.read_csv(\"data-train/input/S0000229-Quan Hoa.csv\")\n",
        "input_lomonoxop = pd.read_csv(\"data-train/input/S0000238-He thong lien cap Lomonoxop - Mam non.csv\")\n",
        "input_tonthatthuyet = pd.read_csv(\"data-train/input/S0000264-FDS - Ton That Thuyet.csv\")\n",
        "input_hangtrong = pd.read_csv(\"data-train/input/S0000310-Hang Trong.csv\")\n",
        "input_batrieu = pd.read_csv(\"data-train/input/S0000370-Ba Trieu.csv\")\n",
        "input_tranquangkhai = pd.read_csv(\"data-train/input/S0000541-Tran Quang Khai.csv\")"
      ]
    },
    {
      "cell_type": "code",
      "execution_count": 4,
      "metadata": {
        "id": "tNiZK-7eNWjJ"
      },
      "outputs": [],
      "source": [
        "raw_input_df = [input_batrieu,\n",
        "                input_quanhoa,\n",
        "                input_hangtrong,\n",
        "                input_thcsyenso,\n",
        "                input_thtranquoctoan,\n",
        "                input_ngockhanh,\n",
        "                input_tranquangkhai,\n",
        "                input_lomonoxop,\n",
        "                input_dhqg,\n",
        "                input_genesis,\n",
        "                input_tonthatthuyet]\n",
        "locations = {\n",
        "    \"S0000370\": 0,\n",
        "    \"S0000229\": 1,\n",
        "    \"S0000310\": 2,\n",
        "    \"S0000210\": 3,\n",
        "    \"S0000153\": 4,\n",
        "    \"S0000137\": 5,\n",
        "    \"S0000541\": 6,\n",
        "    \"S0000238\": 7,\n",
        "    \"S0000143\": 8,\n",
        "    \"S0000171\": 9,\n",
        "    \"S0000264\": 10\n",
        "}"
      ]
    },
    {
      "cell_type": "code",
      "execution_count": 6,
      "metadata": {
        "id": "4Gq_04zTN1Yh"
      },
      "outputs": [],
      "source": [
        "input_coordinate = pd.read_csv(\"data-train/location_input.csv\")\n",
        "output_coordinate = pd.read_csv(\"data-train/location_output.csv\")"
      ]
    },
    {
      "cell_type": "code",
      "execution_count": null,
      "metadata": {
        "id": "1eRTR4h0NKDs"
      },
      "outputs": [],
      "source": [
        "# df_merged = pd.concat(raw_input_df, ignore_index=True, sort=False)"
      ]
    },
    {
      "cell_type": "code",
      "execution_count": null,
      "metadata": {
        "id": "gk___mqYPBO4"
      },
      "outputs": [],
      "source": [
        "def create_location_col(dataframe, location_id):\n",
        "    new_col = []\n",
        "    new_dataframe = dataframe\n",
        "    for i in range(len(dataframe)):\n",
        "        new_col.append(location_id)\n",
        "    new_dataframe[\"location_id\"] = new_col\n",
        "    return new_dataframe\n",
        "\n",
        "for i in range(len(raw_input_df)):\n",
        "    create_location_col(raw_input_df[i], i)\n",
        "\n",
        "full_aq_df = pd.concat(raw_input_df, ignore_index=True, sort=False).dropna()"
      ]
    },
    {
      "cell_type": "code",
      "execution_count": null,
      "metadata": {
        "colab": {
          "base_uri": "https://localhost:8080/"
        },
        "id": "d8YOeCh7j9xm",
        "outputId": "c8cf3564-c576-4e65-eba7-cb17a049380d"
      },
      "outputs": [
        {
          "data": {
            "text/html": [
              "\n",
              "  <div id=\"df-127bfb0e-9975-4e92-9c4d-70a5df0e6959\">\n",
              "    <div class=\"colab-df-container\">\n",
              "      <div>\n",
              "<style scoped>\n",
              "    .dataframe tbody tr th:only-of-type {\n",
              "        vertical-align: middle;\n",
              "    }\n",
              "\n",
              "    .dataframe tbody tr th {\n",
              "        vertical-align: top;\n",
              "    }\n",
              "\n",
              "    .dataframe thead th {\n",
              "        text-align: right;\n",
              "    }\n",
              "</style>\n",
              "<table border=\"1\" class=\"dataframe\">\n",
              "  <thead>\n",
              "    <tr style=\"text-align: right;\">\n",
              "      <th></th>\n",
              "      <th>Unnamed: 0</th>\n",
              "      <th>timestamp</th>\n",
              "      <th>PM2.5</th>\n",
              "      <th>humidity</th>\n",
              "      <th>temperature</th>\n",
              "      <th>location_id</th>\n",
              "    </tr>\n",
              "  </thead>\n",
              "  <tbody>\n",
              "    <tr>\n",
              "      <th>0</th>\n",
              "      <td>0</td>\n",
              "      <td>27/05/2020 12:00</td>\n",
              "      <td>5.06</td>\n",
              "      <td>49.41</td>\n",
              "      <td>32.66</td>\n",
              "      <td>0</td>\n",
              "    </tr>\n",
              "    <tr>\n",
              "      <th>1</th>\n",
              "      <td>1</td>\n",
              "      <td>27/05/2020 13:00</td>\n",
              "      <td>2.78</td>\n",
              "      <td>45.26</td>\n",
              "      <td>33.21</td>\n",
              "      <td>0</td>\n",
              "    </tr>\n",
              "    <tr>\n",
              "      <th>2</th>\n",
              "      <td>2</td>\n",
              "      <td>27/05/2020 14:00</td>\n",
              "      <td>9.51</td>\n",
              "      <td>52.76</td>\n",
              "      <td>33.54</td>\n",
              "      <td>0</td>\n",
              "    </tr>\n",
              "    <tr>\n",
              "      <th>3</th>\n",
              "      <td>3</td>\n",
              "      <td>27/05/2020 15:00</td>\n",
              "      <td>9.80</td>\n",
              "      <td>54.10</td>\n",
              "      <td>33.53</td>\n",
              "      <td>0</td>\n",
              "    </tr>\n",
              "    <tr>\n",
              "      <th>4</th>\n",
              "      <td>4</td>\n",
              "      <td>27/05/2020 16:00</td>\n",
              "      <td>13.27</td>\n",
              "      <td>52.64</td>\n",
              "      <td>33.07</td>\n",
              "      <td>0</td>\n",
              "    </tr>\n",
              "  </tbody>\n",
              "</table>\n",
              "</div>\n",
              "      <button class=\"colab-df-convert\" onclick=\"convertToInteractive('df-127bfb0e-9975-4e92-9c4d-70a5df0e6959')\"\n",
              "              title=\"Convert this dataframe to an interactive table.\"\n",
              "              style=\"display:none;\">\n",
              "        \n",
              "  <svg xmlns=\"http://www.w3.org/2000/svg\" height=\"24px\"viewBox=\"0 0 24 24\"\n",
              "       width=\"24px\">\n",
              "    <path d=\"M0 0h24v24H0V0z\" fill=\"none\"/>\n",
              "    <path d=\"M18.56 5.44l.94 2.06.94-2.06 2.06-.94-2.06-.94-.94-2.06-.94 2.06-2.06.94zm-11 1L8.5 8.5l.94-2.06 2.06-.94-2.06-.94L8.5 2.5l-.94 2.06-2.06.94zm10 10l.94 2.06.94-2.06 2.06-.94-2.06-.94-.94-2.06-.94 2.06-2.06.94z\"/><path d=\"M17.41 7.96l-1.37-1.37c-.4-.4-.92-.59-1.43-.59-.52 0-1.04.2-1.43.59L10.3 9.45l-7.72 7.72c-.78.78-.78 2.05 0 2.83L4 21.41c.39.39.9.59 1.41.59.51 0 1.02-.2 1.41-.59l7.78-7.78 2.81-2.81c.8-.78.8-2.07 0-2.86zM5.41 20L4 18.59l7.72-7.72 1.47 1.35L5.41 20z\"/>\n",
              "  </svg>\n",
              "      </button>\n",
              "      \n",
              "  <style>\n",
              "    .colab-df-container {\n",
              "      display:flex;\n",
              "      flex-wrap:wrap;\n",
              "      gap: 12px;\n",
              "    }\n",
              "\n",
              "    .colab-df-convert {\n",
              "      background-color: #E8F0FE;\n",
              "      border: none;\n",
              "      border-radius: 50%;\n",
              "      cursor: pointer;\n",
              "      display: none;\n",
              "      fill: #1967D2;\n",
              "      height: 32px;\n",
              "      padding: 0 0 0 0;\n",
              "      width: 32px;\n",
              "    }\n",
              "\n",
              "    .colab-df-convert:hover {\n",
              "      background-color: #E2EBFA;\n",
              "      box-shadow: 0px 1px 2px rgba(60, 64, 67, 0.3), 0px 1px 3px 1px rgba(60, 64, 67, 0.15);\n",
              "      fill: #174EA6;\n",
              "    }\n",
              "\n",
              "    [theme=dark] .colab-df-convert {\n",
              "      background-color: #3B4455;\n",
              "      fill: #D2E3FC;\n",
              "    }\n",
              "\n",
              "    [theme=dark] .colab-df-convert:hover {\n",
              "      background-color: #434B5C;\n",
              "      box-shadow: 0px 1px 3px 1px rgba(0, 0, 0, 0.15);\n",
              "      filter: drop-shadow(0px 1px 2px rgba(0, 0, 0, 0.3));\n",
              "      fill: #FFFFFF;\n",
              "    }\n",
              "  </style>\n",
              "\n",
              "      <script>\n",
              "        const buttonEl =\n",
              "          document.querySelector('#df-127bfb0e-9975-4e92-9c4d-70a5df0e6959 button.colab-df-convert');\n",
              "        buttonEl.style.display =\n",
              "          google.colab.kernel.accessAllowed ? 'block' : 'none';\n",
              "\n",
              "        async function convertToInteractive(key) {\n",
              "          const element = document.querySelector('#df-127bfb0e-9975-4e92-9c4d-70a5df0e6959');\n",
              "          const dataTable =\n",
              "            await google.colab.kernel.invokeFunction('convertToInteractive',\n",
              "                                                     [key], {});\n",
              "          if (!dataTable) return;\n",
              "\n",
              "          const docLinkHtml = 'Like what you see? Visit the ' +\n",
              "            '<a target=\"_blank\" href=https://colab.research.google.com/notebooks/data_table.ipynb>data table notebook</a>'\n",
              "            + ' to learn more about interactive tables.';\n",
              "          element.innerHTML = '';\n",
              "          dataTable['output_type'] = 'display_data';\n",
              "          await google.colab.output.renderOutput(dataTable, element);\n",
              "          const docLink = document.createElement('div');\n",
              "          docLink.innerHTML = docLinkHtml;\n",
              "          element.appendChild(docLink);\n",
              "        }\n",
              "      </script>\n",
              "    </div>\n",
              "  </div>\n",
              "  "
            ],
            "text/plain": [
              "   Unnamed: 0         timestamp  PM2.5  humidity  temperature  location_id\n",
              "0           0  27/05/2020 12:00   5.06     49.41        32.66            0\n",
              "1           1  27/05/2020 13:00   2.78     45.26        33.21            0\n",
              "2           2  27/05/2020 14:00   9.51     52.76        33.54            0\n",
              "3           3  27/05/2020 15:00   9.80     54.10        33.53            0\n",
              "4           4  27/05/2020 16:00  13.27     52.64        33.07            0"
            ]
          },
          "execution_count": 9,
          "metadata": {},
          "output_type": "execute_result"
        }
      ],
      "source": [
        "full_aq_df.head()"
      ]
    },
    {
      "cell_type": "markdown",
      "metadata": {
        "id": "fujQgf6XRZKK"
      },
      "source": [
        "##2. Visualization"
      ]
    },
    {
      "cell_type": "code",
      "execution_count": null,
      "metadata": {
        "id": "BZ_Z3DJmP3RB"
      },
      "outputs": [],
      "source": [
        "import matplotlib.pyplot as plt\n",
        "import seaborn as sns"
      ]
    },
    {
      "cell_type": "code",
      "execution_count": null,
      "metadata": {
        "colab": {
          "base_uri": "https://localhost:8080/"
        },
        "id": "mLzXBrWSRX9S",
        "outputId": "d9f34a23-4b82-4f9a-e68d-ae6461ad80f2"
      },
      "outputs": [
        {
          "name": "stderr",
          "output_type": "stream",
          "text": [
            "/usr/local/lib/python3.7/dist-packages/seaborn/distributions.py:2619: FutureWarning: `distplot` is a deprecated function and will be removed in a future version. Please adapt your code to use either `displot` (a figure-level function with similar flexibility) or `histplot` (an axes-level function for histograms).\n",
            "  warnings.warn(msg, FutureWarning)\n",
            "/usr/local/lib/python3.7/dist-packages/seaborn/distributions.py:2103: FutureWarning: The `axis` variable is no longer used and will be removed. Instead, assign variables directly to `x` or `y`.\n",
            "  warnings.warn(msg, FutureWarning)\n"
          ]
        },
        {
          "data": {
            "text/plain": [
              "<matplotlib.axes._subplots.AxesSubplot at 0x7f6f58f4b2d0>"
            ]
          },
          "execution_count": 11,
          "metadata": {},
          "output_type": "execute_result"
        },
        {
          "data": {
            "image/png": "[encoded data removed]",
            "text/plain": [
              "<Figure size 432x288 with 1 Axes>"
            ]
          },
          "metadata": {
            "needs_background": "light"
          },
          "output_type": "display_data"
        }
      ],
      "source": [
        "sns.distplot(full_aq_df['PM2.5'], kde=True, rug=True)"
      ]
    },
    {
      "cell_type": "code",
      "execution_count": null,
      "metadata": {
        "colab": {
          "base_uri": "https://localhost:8080/"
        },
        "id": "UlKoyxWRj47C",
        "outputId": "ed1122f5-167a-4f58-9059-37877f86bea4"
      },
      "outputs": [
        {
          "name": "stderr",
          "output_type": "stream",
          "text": [
            "/usr/local/lib/python3.7/dist-packages/seaborn/distributions.py:2619: FutureWarning: `distplot` is a deprecated function and will be removed in a future version. Please adapt your code to use either `displot` (a figure-level function with similar flexibility) or `histplot` (an axes-level function for histograms).\n",
            "  warnings.warn(msg, FutureWarning)\n",
            "/usr/local/lib/python3.7/dist-packages/seaborn/distributions.py:2103: FutureWarning: The `axis` variable is no longer used and will be removed. Instead, assign variables directly to `x` or `y`.\n",
            "  warnings.warn(msg, FutureWarning)\n"
          ]
        },
        {
          "data": {
            "text/plain": [
              "<matplotlib.axes._subplots.AxesSubplot at 0x7f6f54435710>"
            ]
          },
          "execution_count": 12,
          "metadata": {},
          "output_type": "execute_result"
        },
        {
          "data": {
            "image/png": "[encoded data removed]",
            "text/plain": [
              "<Figure size 432x288 with 1 Axes>"
            ]
          },
          "metadata": {
            "needs_background": "light"
          },
          "output_type": "display_data"
        }
      ],
      "source": [
        "sns.distplot(full_aq_df['temperature'], kde=True, rug=True)"
      ]
    },
    {
      "cell_type": "code",
      "execution_count": null,
      "metadata": {
        "id": "c6-m9lOsn55Z"
      },
      "outputs": [],
      "source": []
    }
  ],
  "metadata": {
    "colab": {
      "collapsed_sections": [],
      "name": "EDA.ipynb",
      "provenance": []
    },
    "kernelspec": {
      "display_name": "Python 3.8.10 64-bit",
      "language": "python",
      "name": "python3"
    },
    "language_info": {
      "codemirror_mode": {
        "name": "ipython",
        "version": 3
      },
      "file_extension": ".py",
      "mimetype": "text/x-python",
      "name": "python",
      "nbconvert_exporter": "python",
      "pygments_lexer": "ipython3",
      "version": "3.8.10"
    },
    "vscode": {
      "interpreter": {
        "hash": "31f2aee4e71d21fbe5cf8b01ff0e069b9275f58929596ceb00d14d90e3e16cd6"
      }
    }
  },
  "nbformat": 4,
  "nbformat_minor": 0
}
